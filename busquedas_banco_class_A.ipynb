{
  "nbformat": 4,
  "nbformat_minor": 0,
  "metadata": {
    "colab": {
      "name": "busquedas_banco_class-A",
      "provenance": [],
      "authorship_tag": "ABX9TyO3TBX7ZspxpCYbka2Q4k82",
      "include_colab_link": true
    },
    "kernelspec": {
      "name": "python3",
      "display_name": "Python 3"
    }
  },
  "cells": [
    {
      "cell_type": "markdown",
      "metadata": {
        "id": "view-in-github",
        "colab_type": "text"
      },
      "source": [
        "<a href=\"https://colab.research.google.com/github/camilorey/material_clases/blob/main/busquedas_banco_class_A.ipynb\" target=\"_parent\"><img src=\"https://colab.research.google.com/assets/colab-badge.svg\" alt=\"Open In Colab\"/></a>"
      ]
    },
    {
      "cell_type": "code",
      "metadata": {
        "colab": {
          "base_uri": "https://localhost:8080/"
        },
        "id": "oSBTTuWCdh6F",
        "outputId": "59f2b72a-3a95-4d0e-9bca-5630bc53ce41"
      },
      "source": [
        "#librerías de conexión a una base de datos\n",
        "import psycopg2 as Psycopg2\n",
        "#paquetes de manejo de datos\n",
        "import pandas as Pandas\n",
        "#vamos a importar la librería para dividir el dataset. \n",
        "from sklearn.model_selection import train_test_split\n",
        "#el paquete con el que vamos a hacer un clasificador de árbol\n",
        "from sklearn.tree import DecisionTreeClassifier\n",
        "#para evaluar un clasificador de árbol\n",
        "from sklearn.metrics import confusion_matrix\n",
        "from sklearn.metrics import accuracy_score\n",
        "from sklearn.metrics import classification_report"
      ],
      "execution_count": null,
      "outputs": [
        {
          "output_type": "stream",
          "text": [
            "/usr/local/lib/python3.6/dist-packages/psycopg2/__init__.py:144: UserWarning: The psycopg2 wheel package will be renamed from release 2.8; in order to keep installing from binary please use \"pip install psycopg2-binary\" instead. For details see: <http://initd.org/psycopg/docs/install.html#binary-install-from-pypi>.\n",
            "  \"\"\")\n"
          ],
          "name": "stderr"
        }
      ]
    },
    {
      "cell_type": "markdown",
      "metadata": {
        "id": "D_yYuKBgeDsl"
      },
      "source": [
        "Credenciales de la Base de Datos"
      ]
    },
    {
      "cell_type": "code",
      "metadata": {
        "id": "M-NtmWn3eF0q"
      },
      "source": [
        "#credenciales de la Base de Datos Elephant del banco Class-A\n",
        "servidor_db = 'lallah.db.elephantsql.com'\n",
        "nombre_db = 'jjcltkov'\n",
        "usuario_db = 'jjcltkov'\n",
        "password_db = 'xL1IczpM2h36TbBbVz7dpIhgL8SgsWxI'"
      ],
      "execution_count": null,
      "outputs": []
    },
    {
      "cell_type": "markdown",
      "metadata": {
        "id": "t0h-2H8heJu-"
      },
      "source": [
        "Un bloque de código que almacena las búsquedas que hagamos en la DB como un DataFrame."
      ]
    },
    {
      "cell_type": "code",
      "metadata": {
        "id": "cHqlyr50eQYH"
      },
      "source": [
        "def busquedaComoDataFrame(queryBusqueda):\n",
        "  conexionDB = None\n",
        "  resultado = None #dataframe que contendrá el resultado de la búsqueda\n",
        "  try:\n",
        "    #vamos a hacer la conexión a la base de datos (Esta instrucción siempre es igual)\n",
        "    conexionDB = Psycopg2.connect(host=servidor_db,database=nombre_db,user=usuario_db,password=password_db)\n",
        "    #vamos a confirmar que estamos conectados a la base de datos\n",
        "    print(\"conexión establecida con la base de datos\")\n",
        "    #vamos a ejecutar el comando y meterlo de una dentro del DataFrame\n",
        "    resultado = Pandas.read_sql_query(queryBusqueda,conexionDB)\n",
        "    print(\"resultado obtenido, todo bien\")\n",
        "    #ahora cerramos la conexión\n",
        "    conexionDB.close()\n",
        "  except (Exception,Psycopg2.DatabaseError) as Error:\n",
        "    print(\"Ha ocurrido un error\")\n",
        "    print(Error)\n",
        "  finally:\n",
        "    if conexionDB is not None:\n",
        "      conexionDB.close()\n",
        "  #sea como sea el ingreso a la DB fue hecho, necesitamos retornar el resultado\n",
        "  return resultado"
      ],
      "execution_count": null,
      "outputs": []
    },
    {
      "cell_type": "markdown",
      "metadata": {
        "id": "AEikSTVde3Hw"
      },
      "source": [
        "Podemos hacer búsquedas en la base de datos pasando "
      ]
    },
    {
      "cell_type": "code",
      "metadata": {
        "colab": {
          "base_uri": "https://localhost:8080/",
          "height": 140
        },
        "id": "jVXxICfLfcoJ",
        "outputId": "762f9ecd-96af-4c66-f8ae-1ca308a28108"
      },
      "source": [
        "query_tipoTransaccion = \"\"\"SELECT * FROM tipoTransaccion\"\"\"\n",
        "tiposTransaccion = busquedaComoDataFrame(query_tipoTransaccion)\n",
        "tiposTransaccion"
      ],
      "execution_count": null,
      "outputs": [
        {
          "output_type": "stream",
          "text": [
            "conexión establecida con la base de datos\n",
            "resultado obtenido, todo bien\n"
          ],
          "name": "stdout"
        },
        {
          "output_type": "execute_result",
          "data": {
            "text/html": [
              "<div>\n",
              "<style scoped>\n",
              "    .dataframe tbody tr th:only-of-type {\n",
              "        vertical-align: middle;\n",
              "    }\n",
              "\n",
              "    .dataframe tbody tr th {\n",
              "        vertical-align: top;\n",
              "    }\n",
              "\n",
              "    .dataframe thead th {\n",
              "        text-align: right;\n",
              "    }\n",
              "</style>\n",
              "<table border=\"1\" class=\"dataframe\">\n",
              "  <thead>\n",
              "    <tr style=\"text-align: right;\">\n",
              "      <th></th>\n",
              "      <th>tipotransaccion_id</th>\n",
              "      <th>tipotransaccion</th>\n",
              "    </tr>\n",
              "  </thead>\n",
              "  <tbody>\n",
              "    <tr>\n",
              "      <th>0</th>\n",
              "      <td>1</td>\n",
              "      <td>INGRESO</td>\n",
              "    </tr>\n",
              "    <tr>\n",
              "      <th>1</th>\n",
              "      <td>2</td>\n",
              "      <td>EGRESO</td>\n",
              "    </tr>\n",
              "  </tbody>\n",
              "</table>\n",
              "</div>"
            ],
            "text/plain": [
              "   tipotransaccion_id tipotransaccion\n",
              "0                   1         INGRESO\n",
              "1                   2          EGRESO"
            ]
          },
          "metadata": {
            "tags": []
          },
          "execution_count": 4
        }
      ]
    },
    {
      "cell_type": "markdown",
      "metadata": {
        "id": "mdG0yK02kCyK"
      },
      "source": [
        "vamos a consultar la vista de ingresos diarios (por fecha)"
      ]
    },
    {
      "cell_type": "code",
      "metadata": {
        "colab": {
          "base_uri": "https://localhost:8080/",
          "height": 229
        },
        "id": "YiS1Po8-kHJL",
        "outputId": "0f76fffa-875e-4e05-908c-59065d99e5b3"
      },
      "source": [
        "ingresos_diarios = busquedaComoDataFrame(\"\"\"SELECT * FROM  ingresos_por_fecha\"\"\")\n",
        "ingresos_diarios.head()"
      ],
      "execution_count": null,
      "outputs": [
        {
          "output_type": "stream",
          "text": [
            "conexión establecida con la base de datos\n",
            "resultado obtenido, todo bien\n"
          ],
          "name": "stdout"
        },
        {
          "output_type": "execute_result",
          "data": {
            "text/html": [
              "<div>\n",
              "<style scoped>\n",
              "    .dataframe tbody tr th:only-of-type {\n",
              "        vertical-align: middle;\n",
              "    }\n",
              "\n",
              "    .dataframe tbody tr th {\n",
              "        vertical-align: top;\n",
              "    }\n",
              "\n",
              "    .dataframe thead th {\n",
              "        text-align: right;\n",
              "    }\n",
              "</style>\n",
              "<table border=\"1\" class=\"dataframe\">\n",
              "  <thead>\n",
              "    <tr style=\"text-align: right;\">\n",
              "      <th></th>\n",
              "      <th>fecha</th>\n",
              "      <th>vol_ingreso</th>\n",
              "      <th>promedio_ingreso</th>\n",
              "      <th>num_ingresos</th>\n",
              "    </tr>\n",
              "  </thead>\n",
              "  <tbody>\n",
              "    <tr>\n",
              "      <th>0</th>\n",
              "      <td>2020-11-08</td>\n",
              "      <td>6560461.33</td>\n",
              "      <td>78100.730119</td>\n",
              "      <td>84</td>\n",
              "    </tr>\n",
              "    <tr>\n",
              "      <th>1</th>\n",
              "      <td>2020-11-09</td>\n",
              "      <td>6341780.49</td>\n",
              "      <td>79272.256125</td>\n",
              "      <td>80</td>\n",
              "    </tr>\n",
              "    <tr>\n",
              "      <th>2</th>\n",
              "      <td>2020-11-10</td>\n",
              "      <td>9865394.80</td>\n",
              "      <td>99650.452525</td>\n",
              "      <td>99</td>\n",
              "    </tr>\n",
              "    <tr>\n",
              "      <th>3</th>\n",
              "      <td>2020-11-11</td>\n",
              "      <td>6551522.05</td>\n",
              "      <td>83993.872436</td>\n",
              "      <td>78</td>\n",
              "    </tr>\n",
              "    <tr>\n",
              "      <th>4</th>\n",
              "      <td>2020-11-12</td>\n",
              "      <td>9348107.57</td>\n",
              "      <td>128056.268082</td>\n",
              "      <td>73</td>\n",
              "    </tr>\n",
              "  </tbody>\n",
              "</table>\n",
              "</div>"
            ],
            "text/plain": [
              "        fecha  vol_ingreso  promedio_ingreso  num_ingresos\n",
              "0  2020-11-08   6560461.33      78100.730119            84\n",
              "1  2020-11-09   6341780.49      79272.256125            80\n",
              "2  2020-11-10   9865394.80      99650.452525            99\n",
              "3  2020-11-11   6551522.05      83993.872436            78\n",
              "4  2020-11-12   9348107.57     128056.268082            73"
            ]
          },
          "metadata": {
            "tags": []
          },
          "execution_count": 7
        }
      ]
    },
    {
      "cell_type": "code",
      "metadata": {
        "colab": {
          "base_uri": "https://localhost:8080/",
          "height": 229
        },
        "id": "5vVsEb4plnVC",
        "outputId": "48a03503-d57c-4d33-d989-d9a911676e26"
      },
      "source": [
        "egresos_diarios = busquedaComoDataFrame(\"\"\"SELECT * FROM  egresos_por_fecha\"\"\")\n",
        "egresos_diarios.head()"
      ],
      "execution_count": null,
      "outputs": [
        {
          "output_type": "stream",
          "text": [
            "conexión establecida con la base de datos\n",
            "resultado obtenido, todo bien\n"
          ],
          "name": "stdout"
        },
        {
          "output_type": "execute_result",
          "data": {
            "text/html": [
              "<div>\n",
              "<style scoped>\n",
              "    .dataframe tbody tr th:only-of-type {\n",
              "        vertical-align: middle;\n",
              "    }\n",
              "\n",
              "    .dataframe tbody tr th {\n",
              "        vertical-align: top;\n",
              "    }\n",
              "\n",
              "    .dataframe thead th {\n",
              "        text-align: right;\n",
              "    }\n",
              "</style>\n",
              "<table border=\"1\" class=\"dataframe\">\n",
              "  <thead>\n",
              "    <tr style=\"text-align: right;\">\n",
              "      <th></th>\n",
              "      <th>fecha</th>\n",
              "      <th>vol_egreso</th>\n",
              "      <th>promedio_egreso</th>\n",
              "      <th>num_egresos</th>\n",
              "    </tr>\n",
              "  </thead>\n",
              "  <tbody>\n",
              "    <tr>\n",
              "      <th>0</th>\n",
              "      <td>2020-11-08</td>\n",
              "      <td>18692583.27</td>\n",
              "      <td>58051.500839</td>\n",
              "      <td>322</td>\n",
              "    </tr>\n",
              "    <tr>\n",
              "      <th>1</th>\n",
              "      <td>2020-11-09</td>\n",
              "      <td>18495530.62</td>\n",
              "      <td>63124.677884</td>\n",
              "      <td>293</td>\n",
              "    </tr>\n",
              "    <tr>\n",
              "      <th>2</th>\n",
              "      <td>2020-11-10</td>\n",
              "      <td>19060561.64</td>\n",
              "      <td>58111.468415</td>\n",
              "      <td>328</td>\n",
              "    </tr>\n",
              "    <tr>\n",
              "      <th>3</th>\n",
              "      <td>2020-11-11</td>\n",
              "      <td>16428108.41</td>\n",
              "      <td>50548.025877</td>\n",
              "      <td>325</td>\n",
              "    </tr>\n",
              "    <tr>\n",
              "      <th>4</th>\n",
              "      <td>2020-11-12</td>\n",
              "      <td>16627352.62</td>\n",
              "      <td>51960.476938</td>\n",
              "      <td>320</td>\n",
              "    </tr>\n",
              "  </tbody>\n",
              "</table>\n",
              "</div>"
            ],
            "text/plain": [
              "        fecha   vol_egreso  promedio_egreso  num_egresos\n",
              "0  2020-11-08  18692583.27     58051.500839          322\n",
              "1  2020-11-09  18495530.62     63124.677884          293\n",
              "2  2020-11-10  19060561.64     58111.468415          328\n",
              "3  2020-11-11  16428108.41     50548.025877          325\n",
              "4  2020-11-12  16627352.62     51960.476938          320"
            ]
          },
          "metadata": {
            "tags": []
          },
          "execution_count": 8
        }
      ]
    }
  ]
}